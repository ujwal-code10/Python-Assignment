{
 "cells": [
  {
   "cell_type": "code",
   "execution_count": 3,
   "id": "af4641c8-7835-4032-8953-120023fd7ec7",
   "metadata": {},
   "outputs": [
    {
     "name": "stdin",
     "output_type": "stream",
     "text": [
      "Enter a number:  5\n"
     ]
    },
    {
     "name": "stdout",
     "output_type": "stream",
     "text": [
      "Multiplication table of 5:\n",
      "5 x 1 = 5\n",
      "5 x 2 = 10\n",
      "5 x 3 = 15\n",
      "5 x 4 = 20\n",
      "5 x 5 = 25\n",
      "5 x 6 = 30\n",
      "5 x 7 = 35\n",
      "5 x 8 = 40\n",
      "5 x 9 = 45\n",
      "5 x 10 = 50\n"
     ]
    }
   ],
   "source": [
    "#1.Print Multiplication Table3 \n",
    "num = int(input(\"Enter a number: \"))\n",
    "print(f\"Multiplication table of {num}:\")\n",
    "for i in range(1, 11):\n",
    "    print(f\"{num} x {i} = {num * i}\")"
   ]
  },
  {
   "cell_type": "code",
   "execution_count": 7,
   "id": "7f1f046d-acff-421b-9e52-72c4195d895a",
   "metadata": {},
   "outputs": [
    {
     "name": "stdout",
     "output_type": "stream",
     "text": [
      "*-----\n",
      "**----\n",
      "***---\n",
      "****--\n",
      "*****-\n"
     ]
    }
   ],
   "source": [
    "#2.Right-Angled Triangle\n",
    "\n",
    "print('*-----')\n",
    "print('**----')\n",
    "print('***---')\n",
    "print('****--')\n",
    "print('*****-')"
   ]
  },
  {
   "cell_type": "code",
   "execution_count": 8,
   "id": "d1c815ee-7ab8-4d85-be38-8add5f595f6f",
   "metadata": {},
   "outputs": [
    {
     "name": "stdout",
     "output_type": "stream",
     "text": [
      "   *   \n",
      "  ***  \n",
      " ***** \n",
      "*******\n",
      " ********** \n",
      "  **********  \n"
     ]
    }
   ],
   "source": [
    "#3.Print Pyramid\n",
    "print('   *   ')\n",
    "print('  ***  ')\n",
    "print(' ***** ')\n",
    "print('*******')\n",
    "print(' ********** ')\n",
    "print('  **********  ')"
   ]
  },
  {
   "cell_type": "code",
   "execution_count": 10,
   "id": "d065ff43-2341-4629-ba68-ba1c7a39db63",
   "metadata": {},
   "outputs": [
    {
     "name": "stdin",
     "output_type": "stream",
     "text": [
      "Enter numerator:  10\n",
      "Enter denominator:  2\n"
     ]
    },
    {
     "name": "stdout",
     "output_type": "stream",
     "text": [
      "Result: 5.0\n"
     ]
    }
   ],
   "source": [
    "#4. **Division Function**\n",
    "a = float(input(\"Enter numerator: \"))\n",
    "b = float(input(\"Enter denominator: \"))\n",
    "if b == 0:\n",
    "    print(\"Error: Cannot divide by zero.\")\n",
    "else:\n",
    "    print(\"Result:\", a / b)"
   ]
  },
  {
   "cell_type": "code",
   "execution_count": 11,
   "id": "b6307236-41fd-47e8-9d7e-2ae490d8344d",
   "metadata": {},
   "outputs": [
    {
     "name": "stdout",
     "output_type": "stream",
     "text": [
      "Maximum value is: 10\n"
     ]
    }
   ],
   "source": [
    "#5.Maximum Value Function\n",
    "def find_max(numbers):\n",
    "    return max(numbers)\n",
    "nums = [4, 5, 2, 10, 6]\n",
    "print(\"Maximum value is:\", find_max(nums))"
   ]
  },
  {
   "cell_type": "code",
   "execution_count": 12,
   "id": "ba63f2be-dde0-4de1-b8ff-29fe9ebcc295",
   "metadata": {},
   "outputs": [
    {
     "name": "stdin",
     "output_type": "stream",
     "text": [
      "Enter a number:  7\n"
     ]
    },
    {
     "name": "stdout",
     "output_type": "stream",
     "text": [
      "It's a prime number\n"
     ]
    }
   ],
   "source": [
    "#6.Prime Number Checker\n",
    "num = int(input(\"Enter a number: \"))\n",
    "if num < 2:\n",
    "    print(\"Not a prime number\")\n",
    "else:\n",
    "    is_prime = True\n",
    "    for i in range(2, int(num**0.5) + 1):\n",
    "        if num % i == 0:\n",
    "            is_prime = False\n",
    "            break\n",
    "    if is_prime:\n",
    "        print(\"It's a prime number\")\n",
    "    else:\n",
    "        print(\"Not a prime number\")"
   ]
  },
  {
   "cell_type": "code",
   "execution_count": 13,
   "id": "f87fe685-8993-433a-b843-ba39fc585a7c",
   "metadata": {},
   "outputs": [
    {
     "name": "stdin",
     "output_type": "stream",
     "text": [
      "Enter first number:  1\n",
      "Enter second number:  2\n",
      "Enter third number:  3\n"
     ]
    },
    {
     "name": "stdout",
     "output_type": "stream",
     "text": [
      "Yes, the third number is sum of the first two.\n"
     ]
    }
   ],
   "source": [
    "#7.Sum Check\n",
    "a = int(input(\"Enter first number: \"))\n",
    "b = int(input(\"Enter second number: \"))\n",
    "c = int(input(\"Enter third number: \"))\n",
    "if c == a + b:\n",
    "    print(\"Yes, the third number is sum of the first two.\")\n",
    "else:\n",
    "    print(\"No, the third number is not sum of the first two.\")"
   ]
  },
  {
   "cell_type": "code",
   "execution_count": 14,
   "id": "057e5405-12e3-4582-98c1-3c55381bcefa",
   "metadata": {},
   "outputs": [
    {
     "name": "stdin",
     "output_type": "stream",
     "text": [
      "Enter a number:  5\n"
     ]
    },
    {
     "name": "stdout",
     "output_type": "stream",
     "text": [
      "factorial is : 120\n"
     ]
    }
   ],
   "source": [
    "#8.Factorial Function with Custom Module\n",
    "def factorial(n):\n",
    "    if n == 0 or n == 1:\n",
    "        return 1\n",
    "    return n * factorial(n - 1)\n",
    "num = int(input(\"Enter a number: \"))\n",
    "print(\"factorial is :\", factorial(num))"
   ]
  },
  {
   "cell_type": "code",
   "execution_count": 15,
   "id": "4d6288b2-9f85-46a8-b91a-4365632e266e",
   "metadata": {},
   "outputs": [
    {
     "name": "stdin",
     "output_type": "stream",
     "text": [
      "Enter a decimal number:  10\n"
     ]
    },
    {
     "name": "stdout",
     "output_type": "stream",
     "text": [
      "Binary equivalent is: 1010\n"
     ]
    }
   ],
   "source": [
    "#9.Convert Decimal to Binary\n",
    "decimal = int(input(\"Enter a decimal number: \"))\n",
    "binary = bin(decimal)[2:]\n",
    "print(\"Binary equivalent is:\", binary)"
   ]
  },
  {
   "cell_type": "code",
   "execution_count": 16,
   "id": "7e0ddf15-9c6d-49db-951e-e1bf016a7bfe",
   "metadata": {},
   "outputs": [
    {
     "name": "stdin",
     "output_type": "stream",
     "text": [
      "Enter your age:  20\n"
     ]
    },
    {
     "name": "stdout",
     "output_type": "stream",
     "text": [
      "You are an adult.\n"
     ]
    }
   ],
   "source": [
    "#10.Age Category\n",
    "age = int(input(\"Enter your age: \"))\n",
    "if age < 18:\n",
    "    print(\"You are a minor.\")\n",
    "elif age < 60:\n",
    "    print(\"You are an adult.\")\n",
    "else:\n",
    "    print(\"You are a senior.\")"
   ]
  },
  {
   "cell_type": "code",
   "execution_count": 17,
   "id": "11a84eb9-c7df-48fe-bd28-d404e0e52b33",
   "metadata": {},
   "outputs": [
    {
     "name": "stdin",
     "output_type": "stream",
     "text": [
      "Enter first number (a):  15\n",
      "Enter second number (b):  20\n"
     ]
    },
    {
     "name": "stdout",
     "output_type": "stream",
     "text": [
      "After swapping:\n",
      "a = 20\n",
      "b = 15\n"
     ]
    }
   ],
   "source": [
    "#11.Swap Values Without Third Variable\n",
    "a = int(input(\"Enter first number (a): \"))\n",
    "b = int(input(\"Enter second number (b): \"))\n",
    "a = a + b\n",
    "b = a - b\n",
    "a = a - b\n",
    "print(\"After swapping:\")\n",
    "print(\"a =\", a)\n",
    "print(\"b =\", b)"
   ]
  },
  {
   "cell_type": "code",
   "execution_count": 18,
   "id": "cac04efe-50d8-4ea6-ba6d-5d03bd0c4a4a",
   "metadata": {},
   "outputs": [
    {
     "name": "stdin",
     "output_type": "stream",
     "text": [
      "Enter a string:  Hello Friend\n"
     ]
    },
    {
     "name": "stdout",
     "output_type": "stream",
     "text": [
      "Number of vowels: 4\n"
     ]
    }
   ],
   "source": [
    "#12.Count Vowels in a String\n",
    "text = input(\"Enter a string: \")\n",
    "vowels = \"aeiouAEIOU\"\n",
    "Count = 0\n",
    "for char in text:\n",
    "    if char in vowels:\n",
    "        Count += 1\n",
    "print(\"Number of vowels:\", Count)"
   ]
  },
  {
   "cell_type": "code",
   "execution_count": 20,
   "id": "3fa93d55-514e-4a83-8192-9c5a169e5c36",
   "metadata": {},
   "outputs": [
    {
     "name": "stdout",
     "output_type": "stream",
     "text": [
      "Simple calculator\n",
      "Operations: + for addition, - for subtraction, * for multiplication, / for division\n"
     ]
    },
    {
     "name": "stdin",
     "output_type": "stream",
     "text": [
      "Enter first number:  10\n",
      "Enter operator (+, -, *, /):  /\n",
      "Enter second number:  5\n"
     ]
    },
    {
     "name": "stdout",
     "output_type": "stream",
     "text": [
      "Result: 2.0\n"
     ]
    }
   ],
   "source": [
    "#13.Simple Calculator\n",
    "def calculator():\n",
    "    print(\"Simple calculator\")\n",
    "    print(\"Operations: + for addition, - for subtraction, * for multiplication, / for division\")\n",
    "    num1 = float(input(\"Enter first number: \"))\n",
    "    operator = input(\"Enter operator (+, -, *, /): \")\n",
    "    num2 = float(input(\"Enter second number: \"))\n",
    "    if operator == '+':\n",
    "        result = num1 + num2\n",
    "        print(\"Result:\", result)\n",
    "    elif operator == '-':\n",
    "        result = num1 - num2\n",
    "        print(\"Result:\", result)\n",
    "    elif operator == '*':\n",
    "        result = num1 * num2\n",
    "        print(\"Result:\", result)\n",
    "    elif operator == '/':\n",
    "        if num2 != 0:\n",
    "            result = num1 / num2\n",
    "            print(\"Result:\", result)\n",
    "        else:\n",
    "            print(\"Error: Division by zero is not allowed.\")\n",
    "    else:\n",
    "        print(\"Invalid Operator!\")\n",
    "calculator()"
   ]
  },
  {
   "cell_type": "code",
   "execution_count": 21,
   "id": "d0157aff-5eba-4cc1-912f-309295668169",
   "metadata": {},
   "outputs": [
    {
     "name": "stdout",
     "output_type": "stream",
     "text": [
      "First 10 fibonacci numbers:\n",
      "0 1 1 2 3 5 8 13 21 34 "
     ]
    }
   ],
   "source": [
    "#14.Print Fibonacci Series\n",
    "a = 0\n",
    "b = 1\n",
    "print(\"First 10 fibonacci numbers:\")\n",
    "print(a, b, end=\" \")\n",
    "for _ in range(8):\n",
    "    c = a + b\n",
    "    print(c, end=\" \")\n",
    "    a = b\n",
    "    b = c"
   ]
  },
  {
   "cell_type": "code",
   "execution_count": 22,
   "id": "a1665690-d0bc-4d23-9fc3-4ee0ea3a7683",
   "metadata": {},
   "outputs": [
    {
     "name": "stdout",
     "output_type": "stream",
     "text": [
      "[0, 1]\n"
     ]
    }
   ],
   "source": [
    "#15.Two Sum Problem\n",
    "def twoSum(nums, target):\n",
    "    seen = {}\n",
    "    for i, num in enumerate(nums):\n",
    "        diff = target - num\n",
    "        if diff in seen:\n",
    "            return [seen[diff], i]\n",
    "        seen[num] = i\n",
    "nums = [2, 7, 11, 15]\n",
    "target = 9\n",
    "print(twoSum(nums, target))"
   ]
  },
  {
   "cell_type": "code",
   "execution_count": 24,
   "id": "f81322a5-ec06-4df4-bed8-d4316051bc34",
   "metadata": {},
   "outputs": [
    {
     "name": "stdin",
     "output_type": "stream",
     "text": [
      "Enter a number:  19\n"
     ]
    },
    {
     "name": "stdout",
     "output_type": "stream",
     "text": [
      "Is happy number: True\n"
     ]
    }
   ],
   "source": [
    "#16.Happy Number Algorithm\n",
    "def isHappy(n):\n",
    "    seen = set()\n",
    "    while n != 1 and n not in seen:\n",
    "        seen.add(n)\n",
    "        n = sum(int(digit)**2 for digit in str(n))\n",
    "    return n == 1\n",
    "num = int(input(\"Enter a number: \"))\n",
    "print(\"Is happy number:\", isHappy(num))"
   ]
  },
  {
   "cell_type": "code",
   "execution_count": 28,
   "id": "9aabf921-84cb-46c3-ba05-e25238f46925",
   "metadata": {},
   "outputs": [
    {
     "name": "stdout",
     "output_type": "stream",
     "text": [
      "True\n",
      "False\n"
     ]
    }
   ],
   "source": [
    "#17.Contains Duplicate Function\n",
    "def containsDuplicate(nums):\n",
    "    return len(nums) != len(set(nums))\n",
    "    \n",
    "nums = [1, 2, 3, 4, 5, 1]  \n",
    "print(containsDuplicate(nums))  \n",
    "\n",
    "nums_unique = [1, 2, 3, 4, 5]  \n",
    "print(containsDuplicate(nums_unique))  "
   ]
  },
  {
   "cell_type": "code",
   "execution_count": null,
   "id": "a71351ed-78b1-4cd5-8473-9e0ff5ca1e6f",
   "metadata": {},
   "outputs": [],
   "source": []
  }
 ],
 "metadata": {
  "kernelspec": {
   "display_name": "Python [conda env:base] *",
   "language": "python",
   "name": "conda-base-py"
  },
  "language_info": {
   "codemirror_mode": {
    "name": "ipython",
    "version": 3
   },
   "file_extension": ".py",
   "mimetype": "text/x-python",
   "name": "python",
   "nbconvert_exporter": "python",
   "pygments_lexer": "ipython3",
   "version": "3.12.7"
  }
 },
 "nbformat": 4,
 "nbformat_minor": 5
}
